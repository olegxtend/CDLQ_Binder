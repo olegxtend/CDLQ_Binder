{
  "cells": [
    {
      "cell_type": "code",
      "execution_count": null,
      "metadata": {
        "collapsed": false
      },
      "outputs": [],
      "source": [
        "# This cell is added by sphinx-gallery\n# It can be customized to whatever you like\n%matplotlib inline"
      ]
    },
    {
      "cell_type": "markdown",
      "metadata": {},
      "source": [
        "\n.. role:: html(raw)\n   :format: html\n\n\nHamiltonian simulation\n======================\n\n    \"The problem of simulating the dynamics of quantum systems was the original motivation for quantum\n    computers and remains one of their major potential applications.\" - Berry et al. [[1]_]\n\nThe simulation of atoms, molecules and other biochemical systems is another application uniquely\nsuited to quantum computation. For example, the ground state energy of large systems, the dynamical\nbehaviour of an ensemble of molecules, or complex molecular behaviour such as protein folding, are\noften computationally hard or downright impossible to determine via classical computation or\nexperimentation [[2]_][[3]_].\n\nIn the discrete-variable qubit model, efficient methods of Hamiltonian simulation have been\ndiscussed at-length, providing several implementations depending on properties of the Hamiltonian,\nand resulting in a linear simulation time [[4]_][[5]_].\nEfficient implementations of Hamiltonian simulation also exist in the CV formulation\n[[6]_], with specific application to `Bose-Hubbard Hamiltonians\n<https://en.wikipedia.org/wiki/Bose%E2%80%93Hubbard_model>`_ (describing a system of interacting\nbosonic particles on a lattice of orthogonal position states [[7]_]). As\nsuch, this method is ideally suited to photonic quantum computation.\n\nImplementation\n--------------\n\nFor a quick example, consider a lattice composed of two adjacent nodes:\n\n\n.. raw:: html\n\n    <br>\n\n![](/tutorials/images/graph.svg)\n\n    :align: center\n    :width: 40%\n    :target: javascript:void(0);\n\n\n.. raw:: html\n\n    <br>\n\nThis graph is represented by the $2\\times 2$ adjacency matrix\n$A=\\begin{bmatrix}0&1\\\\1&0\\end{bmatrix}$. Here, each node in the graph represents a qumode, so\nwe can model the dynamics of Bosons on this structure via a 2-qumode CV circuit.\n\nThe `Bose-Hubbard Hamiltonian <https://en.wikipedia.org/wiki/Bose%E2%80%93Hubbard_model>`_ with\non-site interactions is given by\n\n\\begin{align}H = J\\sum_{i}\\sum_j A_{ij} \\ad_i\\a_j + \\frac{1}{2}U\\sum_i \\hat{n}_i(\\hat{n}_i-1)= J(\\ad_1 \\a_2 +\n    \\ad_2\\a_1) + \\frac{1}{2}U (  \\hat{n}_1^2 - \\hat{n}_1 + \\hat{n}_2^2 - \\hat{n}_2)\\end{align}\n\nwhere $J$ represents the transfer integral or hopping term of the boson between nodes, and\n$U$ is the on-site interaction potential. Here, $\\ad_1 \\a_2$ represents a boson\ntransitioning from node 1 to node 2, while $\\ad_2\\a_1$ represents a boson transitioning from\nnode 2 to node 1, and $\\hat{n}_i=\\ad_i\\a_i$ is the number operator applied to mode $i$.\nApplying the Lie-product formula, we find that\n\n\\begin{align}e^{-iHt} = \\left[\\exp\\left({-i\\frac{ J t}{k}(\\ad_1 \\a_2 +\n    \\ad_2\\a_1)}\\right)\\exp\\left(-i\\frac{Ut}{2k}\\hat{n}_1^2\\right)\\exp\\left(-i\\frac{Ut}{2k}\\hat{n}_2^2\\right)\n    \\exp\\left(i\\frac{Ut}{2k}\\hat{n}_1\\right)\\exp\\left(i\\frac{Ut}{2k}\\hat{n}_2\\right)\\right]^k+\\mathcal{O}\\left(t^2/k\\right),\\end{align}\n\nwhere $\\mathcal{O}\\left(t^2/k\\right)$ is the order of the error term, derived from the Lie\nproduct formula. Comparing this to the form of various CV gates, we can write this as the product of\n`symmetric beamsplitters <beamsplitter>` (:class:`~strawberryfields.ops.BSgate`), `Kerr gates <kerr>`\n(:class:`~strawberryfields.ops.Kgate`), and `rotation gates <rotation>`\n(:class:`~strawberryfields.ops.Rgate`):\n\n\\begin{align}e^{iHt} = \\left[BS\\left(\\theta,\\phi\\right)\\left(K(r)R(-r)\\otimes\n    K(r)R(-r)\\right)\\right]^k+\\mathcal{O}\\left(t^2/k\\right).\\end{align}\n\nwhere $\\theta=-Jt/k$, $\\phi=\\pi/2$, and $r=-Ut/2k$.\n\nFor the case $k=2$, this can be drawn as the circuit diagram\n\n|\n\n![](/tutorials/images/hamsim.svg)\n\n    :align: center\n    :width: 70%\n    :target: javascript:void(0);\n\n|\n\nFor more complex CV decompositions, including those with interactions, see Kalajdzievski et al.\n[[6]_] for more details.\n\nCode\n----\n\nThe Hamiltonian simulation circuit displayed above for the 2-node lattice, can be implemented using\nStrawberry Fields:\n"
      ]
    },
    {
      "cell_type": "code",
      "execution_count": null,
      "metadata": {
        "collapsed": false
      },
      "outputs": [],
      "source": [
        "import numpy as np\n\n# set the random seed\nnp.random.seed(42)\n\nimport strawberryfields as sf\nfrom strawberryfields.ops import *\n\nham_simulation = sf.Program(2)\n\n# set the Hamiltonian parameters\nJ = 1           # hopping transition\nU = 1.5         # on-site interaction\nk = 20          # Lie product decomposition terms\nt = 1.086       # timestep\ntheta = -J*t/k\nr = -U*t/(2*k)\n\nwith ham_simulation.context as q:\n    # prepare the initial state\n    Fock(2) | q[0]\n\n    # Two node tight-binding\n    # Hamiltonian simulation\n\n    for i in range(k):\n        BSgate(theta, np.pi/2) | (q[0], q[1])\n        Kgate(r)  | q[0]\n        Rgate(-r) | q[0]\n        Kgate(r)  | q[1]\n        Rgate(-r) | q[1]"
      ]
    },
    {
      "cell_type": "markdown",
      "metadata": {},
      "source": [
        "where, for this example, we have set ``J=1``, ``U=1.5``, ``k=20``, ``t=1.086``, ``theta =\n-J*t/k``, and ``r = -U*t/(2*k)``.\n\nSince are initial state is non-Gaussian, we will initialize the ``\"fock\"``\nbackend, with a cutoff of 5:\n\n"
      ]
    },
    {
      "cell_type": "code",
      "execution_count": null,
      "metadata": {
        "collapsed": false
      },
      "outputs": [],
      "source": [
        "eng = sf.Engine(backend=\"fock\", backend_options={\"cutoff_dim\": 5})"
      ]
    },
    {
      "cell_type": "markdown",
      "metadata": {},
      "source": [
        "After constructing the circuit and running the engine,\n\n"
      ]
    },
    {
      "cell_type": "code",
      "execution_count": null,
      "metadata": {
        "collapsed": false
      },
      "outputs": [],
      "source": [
        "results = eng.run(ham_simulation)"
      ]
    },
    {
      "cell_type": "markdown",
      "metadata": {},
      "source": [
        "the site occupation probabilities can be calculated via the\n``fock_prob`` state method, which returns the probability of\nmeasuring some output Fock state:\n\n"
      ]
    },
    {
      "cell_type": "code",
      "execution_count": null,
      "metadata": {
        "collapsed": false
      },
      "outputs": [],
      "source": [
        "state = results.state\nprint(\"P(|0, 2>) = \", state.fock_prob([0, 2]))\nprint(\"P(|1, 1>) = \", state.fock_prob([1, 1]))\nprint(\"P(|2, 0>) = \", state.fock_prob([2, 0]))"
      ]
    },
    {
      "cell_type": "markdown",
      "metadata": {},
      "source": [
        "As Hamiltonian simulation is particle preserving, these probabilities should add up to one:\n\n"
      ]
    },
    {
      "cell_type": "code",
      "execution_count": null,
      "metadata": {
        "collapsed": false
      },
      "outputs": [],
      "source": [
        "result = [state.fock_prob([0, 2]), state.fock_prob([1, 1]), state.fock_prob([2, 0])]\nprint(np.sum(result))"
      ]
    },
    {
      "cell_type": "markdown",
      "metadata": {},
      "source": [
        "We can compare this result to the analytic matrix exponential $e^{-iHt}$, where the matrix\nelements of $H$ can be computed in the Fock basis. Considering the diagonal interaction\nterms,\n\n\\begin{align}& \\braketT{0,2}{H}{0,2} = \\frac{1}{2}U\\braketT{0}{(\\hat{n}^2-\\hat{n})}{0} +\n    \\frac{1}{2}U\\braketT{2}{(\\hat{n}^2-\\hat{n})}{2} = \\frac{1}{2}U(2^2-2) = U\\\\[7pt] &\n    \\braketT{1,1}{H}{1,1} = 0\\\\[7pt] & \\braketT{2,0}{H}{2,0} = U\\end{align}\n\nas well as the off-diagonal hopping terms,\n\n\\begin{align}& \\braketT{1,1}{H}{0,2} = J\\braketT{1,1}{\\left(\\ad_1\\a_2 + \\a_1\\ad_2\\right)}{0,2} =\n    J(\\sqrt{1}\\sqrt{2} + \\sqrt{0}\\sqrt{3}) = J\\sqrt{2}\\\\[7pt] & \\braketT{1,1}{H}{2,0} = J\\sqrt{2}\\end{align}\n\nand taking into account the Hermiticity of the system, we arrive at\n\n\\begin{align}H = \\begin{bmatrix}U&J\\sqrt{2}&0\\\\ J\\sqrt{2} & 0 & J\\sqrt{2}\\\\ 0 & J\\sqrt{2} & U\\end{bmatrix}\\end{align}\n\nwhich acts on the Fock basis $\\{\\ket{0,2},\\ket{1,1},\\ket{2,0}\\}$. Using the SciPy matrix\nexponential function ``scipy.linalg.expm``:\n\n"
      ]
    },
    {
      "cell_type": "code",
      "execution_count": null,
      "metadata": {
        "collapsed": false
      },
      "outputs": [],
      "source": [
        "from scipy.linalg import expm\n\nH = J*np.sqrt(2)*np.array([[0,1,0],[1,0,1],[0,1,0]]) + U*np.diag([1,0,1])\ninit_state = np.array([0,0,1])\n\ntheoretical_result = np.abs(np.dot(expm(-1j*t*H), init_state))**2\nprint(theoretical_result)"
      ]
    },
    {
      "cell_type": "markdown",
      "metadata": {},
      "source": [
        "which agrees, within the expected error margin, with our Strawberry Fields Hamiltonian simulation:\n\n"
      ]
    },
    {
      "cell_type": "code",
      "execution_count": null,
      "metadata": {
        "collapsed": false
      },
      "outputs": [],
      "source": [
        "print(np.all(np.abs(theoretical_result - result) < 1e-2))"
      ]
    },
    {
      "cell_type": "markdown",
      "metadata": {},
      "source": [
        "References\n----------\n\n.. [1] Dominic W. Berry, Andrew M. Childs, and Robin Kothari. Hamiltonian simulation with nearly optimal\n       dependence on all parameters. In 2015 IEEE 56th Annual Symposium on Foundations of Computer Science.\n       IEEE, Oct 2015. doi:10.1109/focs.2015.54.\n\n.. [2] Al\u00e1n Aspuru-Guzik, Anthony D. Dutoi, Peter J. Love, and Martin Head-Gordon. Simulated quantum\n       computation of molecular energies. Science, 309(5741):1704\u20131707, 2005. doi:10.1126/science.1113479.\n\n.. [3] James D. Whitfield, Jacob Biamonte, and Al\u00e1n Aspuru-Guzik. Simulation of electronic structure\n       Hamiltonians using quantum computers. Molecular Physics, 109(5):735\u2013750, 2011.\n       doi:10.1080/00268976.2011.552441.\n\n.. [4] Andrew M. Childs and Nathan Wiebe. Hamiltonian simulation using linear combinations of unitary\n       operations. Quantum Information and Computation, 12(11-12):901\u2013924, 2012. arXiv:1202.5822.\n\n.. [5] Dominic W. Berry, Graeme Ahokas, Richard Cleve, and Barry C. Sanders. Efficient quantum algorithms\n       for simulating sparse Hamiltonians. Communications in Mathematical Physics, 270(2):359\u2013371, 2006.\n       doi:10.1007/s00220-006-0150-x.\n\n.. [6] Timjan Kalajdzievski, Christian Weedbrook, and Patrick Rebentrost. Continuous-variable gate\n       decomposition for the Bose-Hubbard model. 2018. arXiv:1801.06565.\n\n.. [7] Tomasz Sowi\u0144ski, Omjyoti Dutta, Philipp Hauke, Luca Tagliacozzo, and Maciej Lewenstein. Dipolar\n       molecules in optical lattices. Physical Review Letters, 108:115301, 2012.\n       doi:10.1103/PhysRevLett.108.115301.\n\n"
      ]
    }
  ],
  "metadata": {
    "kernelspec": {
      "display_name": "Python 3",
      "language": "python",
      "name": "python3"
    },
    "language_info": {
      "codemirror_mode": {
        "name": "ipython",
        "version": 3
      },
      "file_extension": ".py",
      "mimetype": "text/x-python",
      "name": "python",
      "nbconvert_exporter": "python",
      "pygments_lexer": "ipython3",
      "version": "3.7.2"
    }
  },
  "nbformat": 4,
  "nbformat_minor": 0
}